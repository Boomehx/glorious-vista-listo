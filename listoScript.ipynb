{
 "cells": [
  {
   "cell_type": "code",
   "execution_count": 14,
   "id": "3e55ee16",
   "metadata": {},
   "outputs": [],
   "source": [
    "import pandas as pd\n",
    "import numpy as npy"
   ]
  },
  {
   "cell_type": "code",
   "execution_count": 15,
   "id": "bac8cb14",
   "metadata": {},
   "outputs": [
    {
     "name": "stdout",
     "output_type": "stream",
     "text": [
      "       date attackingDistrictName defendingDistrictName attackingQuarter  \\\n",
      "0  01/01/01                  NICO                 NILLS                1   \n",
      "1  02/02/02                 KEONS                LISDEN                3   \n",
      "2  03/03/03                    HI                    HI               HI   \n",
      "\n",
      "  defendingQuarter  \n",
      "0                3  \n",
      "1                4  \n",
      "2               HI  \n"
     ]
    }
   ],
   "source": [
    "df = pd.read_csv(\"https://docs.google.com/spreadsheets/d/1yiTNYyfjpvOmbg1_YBhTFs4vp-f8Mcc5vBoMf0a2skI/export?format=csv\")\n",
    "print(df)"
   ]
  },
  {
   "cell_type": "code",
   "execution_count": null,
   "id": "581920dc",
   "metadata": {},
   "outputs": [],
   "source": []
  },
  {
   "cell_type": "code",
   "execution_count": null,
   "id": "8c447552",
   "metadata": {},
   "outputs": [],
   "source": []
  }
 ],
 "metadata": {
  "kernelspec": {
   "display_name": "Python 3 (ipykernel)",
   "language": "python",
   "name": "python3"
  },
  "language_info": {
   "codemirror_mode": {
    "name": "ipython",
    "version": 3
   },
   "file_extension": ".py",
   "mimetype": "text/x-python",
   "name": "python",
   "nbconvert_exporter": "python",
   "pygments_lexer": "ipython3",
   "version": "3.10.4"
  }
 },
 "nbformat": 4,
 "nbformat_minor": 5
}
